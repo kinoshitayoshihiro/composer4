{
 "cells": [
  {
   "cell_type": "markdown",
   "id": "7fb27b941602401d91542211134fc71a",
   "metadata": {},
   "source": [
    "# Quick Start"
   ]
  },
  {
   "cell_type": "code",
   "execution_count": null,
   "id": "acae54e37e7d407bbb7b55eff062a284",
   "metadata": {},
   "outputs": [],
   "source": [
    "from pathlib import Path\n",
    "\n",
    "import pretty_midi\n",
    "from IPython.display import Audio, display\n",
    "\n",
    "from utilities import groove_sampler_ngram as gs\n",
    "\n",
    "model = gs.load(Path('model.pkl'))\n",
    "events = gs.sample(model, bars=2, temperature=0.0, top_k=1, seed=0)\n",
    "pm = gs.events_to_midi(events)\n",
    "sf2 = Path(pretty_midi.__path__[0]) / 'TimGM6mb.sf2'\n",
    "audio = pretty_midi.fluidsynth(pm, sf2_path=str(sf2))\n",
    "display(Audio(audio, rate=44100))\n"
   ]
  },
  {
   "cell_type": "code",
   "execution_count": null,
   "id": "605a2bad",
   "metadata": {},
   "outputs": [],
   "source": [
    "from utilities.realtime_engine import RealtimeEngine\n",
    "\n",
    "eng = RealtimeEngine('model.pt', backend='rnn', bpm=120)\n",
    "eng.run(1, lambda ev: print(ev))"
   ]
  }
 ],
 "metadata": {
  "kernelspec": {
   "display_name": "Python 3",
   "language": "python",
   "name": "python3"
  },
  "language_info": {
   "name": "python"
  }
 },
 "nbformat": 4,
 "nbformat_minor": 5
}
