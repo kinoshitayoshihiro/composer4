{
 "cells": [
  {
   "cell_type": "markdown",
   "id": "7fb27b941602401d91542211134fc71a",
   "metadata": {},
   "source": [
    "# Groove Sampler Demo\n",
    "Train and sample the N-gram and RNN models."
   ]
  },
  {
   "cell_type": "code",
   "execution_count": null,
   "id": "acae54e37e7d407bbb7b55eff062a284",
   "metadata": {},
   "outputs": [],
   "source": [
    "from pathlib import Path\n",
    "\n",
    "from utilities import groove_sampler_ngram\n",
    "\n",
    "loops = Path('data/loops.json')\n",
    "model_ng, meta_ng = groove_sampler_ngram.train(loops, order=1)"
   ]
  },
  {
   "cell_type": "code",
   "execution_count": null,
   "id": "9a63283cbaf04dbcab1f6479b197f3a8",
   "metadata": {},
   "outputs": [],
   "source": [
    "from utilities import groove_sampler_rnn\n",
    "\n",
    "try:\n",
    "    model_rnn, meta_rnn = groove_sampler_rnn.train(loops, epochs=1)\n",
    "except RuntimeError:\n",
    "    model_rnn = None\n"
   ]
  },
  {
   "cell_type": "code",
   "execution_count": null,
   "id": "8dd0d8092fe74a7c96281538738b07e2",
   "metadata": {},
   "outputs": [],
   "source": [
    "events_ng = groove_sampler_ngram.sample(model_ng, bars=2)\n",
    "if model_rnn:\n",
    "    events_rnn = groove_sampler_rnn.sample(model_rnn, meta_rnn, bars=2)\n"
   ]
  },
  {
   "cell_type": "markdown",
   "id": "72eea5119410473aa328ad9291626812",
   "metadata": {},
   "source": [
    "Render events with pretty_midi for a quick preview."
   ]
  }
 ],
 "metadata": {},
 "nbformat": 4,
 "nbformat_minor": 5
}
