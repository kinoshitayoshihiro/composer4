{
  "cells": [
    {
      "cell_type": "markdown",
      "id": "99191cdb",
      "metadata": {},
      "source": [
        "# ドラムジェネレータ: テンポ曲線の適用\n",
        "\n",
        "このチュートリアルでは、テンポ曲線(JSON)を読み込み、DrumGenerator に適用して MIDI を生成・試聴します。"
      ]
    },
    {
      "cell_type": "code",
      "execution_count": null,
      "id": "30c3cf36",
      "metadata": {},
      "outputs": [],
      "source": [
        "\n",
        "from IPython.display import Audio, display\n",
        "\n",
        "from generator.drum_generator import DrumGenerator\n",
        "from utilities.tempo_utils import load_tempo_map"
      ]
    },
    {
      "cell_type": "code",
      "execution_count": null,
      "id": "ad627d07",
      "metadata": {},
      "outputs": [],
      "source": [
        "tempo_map = load_tempo_map('examples/tempo_curve.json')\n",
        "print('Loaded events:', tempo_map.events)"
      ]
    },
    {
      "cell_type": "code",
      "execution_count": null,
      "id": "2216adc0",
      "metadata": {},
      "outputs": [],
      "source": [
        "# テンポ曲線の可視化 (beat vs BPM)\n",
        "import matplotlib.pyplot as plt\n",
        "\n",
        "beats = [e['beat'] for e in tempo_map.events]\n",
        "bpms = [e['bpm'] for e in tempo_map.events]\n",
        "plt.plot(beats, bpms, marker='o')\n",
        "plt.xlabel('Beat')\n",
        "plt.ylabel('BPM')\n",
        "plt.title('Tempo Curve')\n",
        "plt.grid(True)\n",
        "plt.show()"
      ]
    },
    {
      "cell_type": "code",
      "execution_count": null,
      "id": "7d83b0c3",
      "metadata": {},
      "outputs": [],
      "source": [
        "dg = DrumGenerator(main_cfg={\"tempo_map_path\": \"examples/tempo_curve.json\"},\n",
        "    global_settings={\"use_velocity_ema\": False})"
      ]
    },
    {
      "cell_type": "code",
      "execution_count": null,
      "id": "1adb432e",
      "metadata": {},
      "outputs": [],
      "source": [
        "part = dg.compose(section_data={\n",
        "    'q_length': 4.0,\n",
        "    'chord_symbol_for_voicing': 'Rest',\n",
        "    'part_params': {},\n",
        "    'musical_intent': {'emotion': 'default', 'intensity': 'medium'},\n",
        "})"
      ]
    },
    {
      "cell_type": "code",
      "execution_count": null,
      "id": "73f0fe2a",
      "metadata": {},
      "outputs": [],
      "source": [
        "midi_path = 'examples/drum_tempo_curve.mid'\n",
        "part.write('midi', fp=midi_path)\n",
        "print('Wrote MIDI to', midi_path)"
      ]
    },
    {
      "cell_type": "code",
      "execution_count": null,
      "id": "7a89d85f",
      "metadata": {},
      "outputs": [],
      "source": [
        "display(Audio(midi_path))"
      ]
    },
    {
      "cell_type": "markdown",
      "id": "283eb062",
      "metadata": {},
      "source": [
        "以上でテンポ曲線を用いたドラムパートの生成と試聴が完了しました。\n",
        "\n",
        "より発展的な使い方や他の例については、リポジトリ内のノートブックも参照してください。"
      ]
    }
  ],
  "metadata": {},
  "nbformat": 4,
  "nbformat_minor": 5
}
